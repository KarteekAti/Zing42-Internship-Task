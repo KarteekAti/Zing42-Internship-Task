{
 "cells": [
  {
   "cell_type": "code",
   "execution_count": 1,
   "metadata": {},
   "outputs": [],
   "source": [
    "from datetime import date,timedelta\n",
    "from jugaad_data.nse import bhavcopy_save\n",
    "import pandas as pd\n",
    "from jugaad_data.holidays import holidays\n",
    "import time, os\n",
    "import psycopg2\n",
    "import csv"
   ]
  },
  {
   "cell_type": "code",
   "execution_count": 2,
   "metadata": {},
   "outputs": [],
   "source": [
    "hostname = 'localhost'\n",
    "database = 'Zing42'\n",
    "username = 'postgres'\n",
    "pwd = '23212'\n",
    "port_id = 5432\n",
    "\n",
    "conn = psycopg2.connect(\n",
    "    host = hostname,\n",
    "    dbname = database,\n",
    "    user = username,\n",
    "    password = pwd,\n",
    "    port = port_id)\n",
    "\n",
    "cur = conn.cursor()"
   ]
  },
  {
   "cell_type": "code",
   "execution_count": 3,
   "metadata": {},
   "outputs": [],
   "source": [
    "df1 = pd.read_csv(\"https://archives.nseindia.com/content/equities/EQUITY_L.csv\")\n",
    "\n",
    "df1.columns = [x.lower().lstrip().replace(\" \", \"_\") for x in df1.columns]\n",
    "replacements = {\n",
    "        'timedelta64[ns]': 'varchar',\n",
    "        'object': 'varchar',\n",
    "        'float64': 'float',\n",
    "        'int64': 'int',\n",
    "        'datetime64': 'timestamp'\n",
    "    }\n",
    "col_str = \", \".join(\"{} {}\".format(n, d) for (n, d) in zip(df1.columns, df1.dtypes.replace(replacements)))\n",
    "col_names = \",\".join(\"{}\".format(n) for n in df1.columns)\n",
    "\n",
    "df1.to_csv('Equity_segment.csv',index = False)"
   ]
  },
  {
   "cell_type": "code",
   "execution_count": 4,
   "metadata": {},
   "outputs": [],
   "source": [
    "today = date.today()\n",
    "today.strftime(\"%m/%d/%y\")\n",
    "prev = today\n",
    "prev = prev.today().replace(month=prev.month - 1) \n",
    "date_range = pd.bdate_range(start=prev, end = today, \n",
    "                        freq='C', holidays= holidays(prev.year,prev.month))"
   ]
  },
  {
   "cell_type": "code",
   "execution_count": 5,
   "metadata": {},
   "outputs": [
    {
     "name": "stdout",
     "output_type": "stream",
     "text": [
      "2022-03-02: File not Found\n",
      "2022-03-03: File not Found\n",
      "2022-03-04: File not Found\n",
      "2022-03-07: File not Found\n",
      "2022-03-08: File not Found\n",
      "2022-03-09: File not Found\n",
      "2022-03-10: File not Found\n",
      "2022-03-11: File not Found\n",
      "2022-03-14: File not Found\n",
      "2022-03-15: File not Found\n",
      "2022-03-16: File not Found\n",
      "2022-03-17: File not Found\n",
      "2022-03-21: File not Found\n",
      "2022-03-22: File not Found\n",
      "2022-03-23: File not Found\n",
      "2022-03-24: File not Found\n",
      "2022-03-25: File not Found\n",
      "2022-03-28: File not Found\n",
      "2022-03-29: File not Found\n",
      "2022-03-30: File not Found\n",
      "2022-03-31: File not Found\n",
      "2022-04-01: File not Found\n"
     ]
    }
   ],
   "source": [
    "savepath = os.path.join('E:', os.sep, 'Tech','Python','Zing42-Internship','bhavcopy')\n",
    "dates_list = [x.date() for x in date_range]\n",
    "for dates in dates_list:\n",
    "     try:\n",
    "          bhavcopy_save(dates, savepath)\n",
    "          d = dates.strftime(\"%d%b%Y\")\n",
    "          df = pd.read_csv(\"bhavcopy\\cm\"+d+\"bhav.csv\")\n",
    "          df.drop('Unnamed: 13',axis = 1,inplace = True)\n",
    "          df.columns = [x.lower().lstrip().replace(\" \", \"_\") for x in df.columns]\n",
    "          df.to_csv(\"bhavcopy\\cm\"+d+\"bhav.csv\", index=False)\n",
    "     except Exception as e:\n",
    "          try:\n",
    "               bhavcopy_save(dates, savepath)\n",
    "               d = dates.strftime(\"%d%b%Y\")\n",
    "               df = pd.read_csv(\"bhavcopy\\cm\"+d+\"bhav.csv\")\n",
    "               df.drop('Unnamed: 13',axis = 1,inplace = True)\n",
    "               df.columns = [x.lower().lstrip().replace(\" \", \"_\") for x in df.columns]\n",
    "               df.to_csv(\"bhavcopy\\cm\"+d+\"bhav.csv\",index=False)\n",
    "          except Exception as e:\n",
    "               print(f'{dates}: File not Found')"
   ]
  },
  {
   "cell_type": "code",
   "execution_count": 6,
   "metadata": {},
   "outputs": [
    {
     "ename": "DuplicateTable",
     "evalue": "relation \"equity_segment\" already exists\n",
     "output_type": "error",
     "traceback": [
      "\u001b[1;31m---------------------------------------------------------------------------\u001b[0m",
      "\u001b[1;31mDuplicateTable\u001b[0m                            Traceback (most recent call last)",
      "\u001b[1;32me:\\Tech\\Python\\Zing42-Internship\\notebook.ipynb Cell 6'\u001b[0m in \u001b[0;36m<cell line: 1>\u001b[1;34m()\u001b[0m\n\u001b[1;32m----> <a href='vscode-notebook-cell:/e%3A/Tech/Python/Zing42-Internship/notebook.ipynb#ch0000006?line=0'>1</a>\u001b[0m cur\u001b[39m.\u001b[39;49mexecute(\u001b[39m\"\u001b[39;49m\u001b[39mcreate table \u001b[39;49m\u001b[39m%s\u001b[39;49;00m\u001b[39m (\u001b[39;49m\u001b[39m%s\u001b[39;49;00m\u001b[39m);\u001b[39;49m\u001b[39m\"\u001b[39;49m \u001b[39m%\u001b[39;49m(\u001b[39m\"\u001b[39;49m\u001b[39mEquity_Segment\u001b[39;49m\u001b[39m\"\u001b[39;49m,col_str))\n\u001b[0;32m      <a href='vscode-notebook-cell:/e%3A/Tech/Python/Zing42-Internship/notebook.ipynb#ch0000006?line=1'>2</a>\u001b[0m \u001b[39mwith\u001b[39;00m \u001b[39mopen\u001b[39m(\u001b[39m'\u001b[39m\u001b[39mEquity_segment.csv\u001b[39m\u001b[39m'\u001b[39m,\u001b[39m'\u001b[39m\u001b[39mr\u001b[39m\u001b[39m'\u001b[39m) \u001b[39mas\u001b[39;00m f:\n\u001b[0;32m      <a href='vscode-notebook-cell:/e%3A/Tech/Python/Zing42-Internship/notebook.ipynb#ch0000006?line=2'>3</a>\u001b[0m     reader \u001b[39m=\u001b[39m csv\u001b[39m.\u001b[39mreader(f)\n",
      "\u001b[1;31mDuplicateTable\u001b[0m: relation \"equity_segment\" already exists\n"
     ]
    }
   ],
   "source": [
    "cur.execute(\"create table %s (%s);\" %(\"Equity_Segment\",col_str))\n",
    "with open('Equity_segment.csv','r') as f:\n",
    "    reader = csv.reader(f)\n",
    "    next(reader)\n",
    "    for row in reader:\n",
    "        cur.execute(\"INSERT INTO equity_segment VALUES (%s, %s, %s, %s,%s,%s,%s,%s)\",\n",
    "        row)\n"
   ]
  },
  {
   "cell_type": "code",
   "execution_count": 7,
   "metadata": {},
   "outputs": [
    {
     "name": "stdout",
     "output_type": "stream",
     "text": [
      "No File\n"
     ]
    }
   ],
   "source": [
    "try:\n",
    "    temp_df = pd.read_csv(\"bhavcopy\\cm02Mar2022bhav.csv\")\n",
    "    col_str = \", \".join(\"{} {}\".format(n, d) for (n, d) in zip(temp_df.columns, temp_df.dtypes.replace(replacements)))\n",
    "    cur.execute(\"create table %s (%s);\" %(\"Bhavcopy\",col_str))\n",
    "    for dates in dates_list: \n",
    "        d = dates.strftime(\"%d%b%Y\")\n",
    "        with open(\"bhavcopy\\cm\"+d+\"bhav.csv\",'r') as f:\n",
    "            reader = csv.reader(f)\n",
    "            next(reader)\n",
    "            for row in reader:\n",
    "                cur.execute(\"INSERT INTO Bhavcopy VALUES (%s, %s, %s, %s,%s,%s,%s,%s,%s,%s,%s,%s,%s)\",\n",
    "                    row)\n",
    "except Exception as e:\n",
    "    print(\"No File\")"
   ]
  },
  {
   "cell_type": "code",
   "execution_count": 71,
   "metadata": {},
   "outputs": [],
   "source": [
    "conn.commit()"
   ]
  },
  {
   "cell_type": "code",
   "execution_count": 9,
   "metadata": {},
   "outputs": [],
   "source": [
    "name = \"20MICRONS\""
   ]
  },
  {
   "cell_type": "code",
   "execution_count": 75,
   "metadata": {},
   "outputs": [],
   "source": [
    "cur.execute(\"SELECT * FROM bhavcopy WHERE symbol = '20MICRONS'\")"
   ]
  },
  {
   "cell_type": "code",
   "execution_count": 76,
   "metadata": {},
   "outputs": [],
   "source": [
    "query = cur.fetchall()"
   ]
  },
  {
   "cell_type": "code",
   "execution_count": 77,
   "metadata": {},
   "outputs": [
    {
     "name": "stdout",
     "output_type": "stream",
     "text": [
      "('20MICRONS', 'EQ', 60.9, 62.75, 60.0, 61.0, 61.1, 61.2, 107412, 6567635.75, '01-OCT-2021', 1940, 'INE144J01027')\n",
      "('20MICRONS', 'EQ', 61.6, 62.45, 59.95, 60.8, 60.7, 61.0, 111663, 6809595.95, '04-OCT-2021', 1849, 'INE144J01027')\n",
      "('20MICRONS', 'EQ', 60.65, 61.4, 60.0, 60.25, 60.1, 60.8, 106172, 6418162.0, '05-OCT-2021', 983, 'INE144J01027')\n",
      "('20MICRONS', 'EQ', 61.1, 64.5, 60.5, 61.3, 61.2, 60.25, 435161, 27176160.45, '06-OCT-2021', 3275, 'INE144J01027')\n",
      "('20MICRONS', 'EQ', 61.75, 63.7, 61.5, 61.9, 62.25, 61.3, 188941, 11814008.8, '07-OCT-2021', 1763, 'INE144J01027')\n",
      "('20MICRONS', 'EQ', 62.8, 63.0, 60.85, 61.55, 61.7, 61.9, 92508, 5728320.55, '08-OCT-2021', 2149, 'INE144J01027')\n",
      "('20MICRONS', 'EQ', 61.25, 62.5, 60.5, 60.65, 60.7, 61.55, 94847, 5828119.05, '11-OCT-2021', 1414, 'INE144J01027')\n",
      "('20MICRONS', 'EQ', 61.15, 63.9, 60.3, 62.95, 63.0, 60.65, 259026, 16134153.35, '12-OCT-2021', 2395, 'INE144J01027')\n",
      "('20MICRONS', 'EQ', 66.0, 66.0, 63.0, 63.35, 63.5, 62.95, 496773, 32057282.75, '13-OCT-2021', 7101, 'INE144J01027')\n",
      "('20MICRONS', 'EQ', 64.0, 64.6, 62.0, 62.35, 62.5, 63.35, 111980, 7055712.25, '14-OCT-2021', 1626, 'INE144J01027')\n"
     ]
    }
   ],
   "source": [
    "for i in query:\n",
    "    print(i)"
   ]
  }
 ],
 "metadata": {
  "interpreter": {
   "hash": "7dda8eb86758bb4b3831fccf5f144f2eebd2052f3b44bf4c6f3a337f3978e9d7"
  },
  "kernelspec": {
   "display_name": "Python 3.10.2 ('.venv': venv)",
   "language": "python",
   "name": "python3"
  },
  "language_info": {
   "codemirror_mode": {
    "name": "ipython",
    "version": 3
   },
   "file_extension": ".py",
   "mimetype": "text/x-python",
   "name": "python",
   "nbconvert_exporter": "python",
   "pygments_lexer": "ipython3",
   "version": "3.10.2"
  },
  "orig_nbformat": 4
 },
 "nbformat": 4,
 "nbformat_minor": 2
}
